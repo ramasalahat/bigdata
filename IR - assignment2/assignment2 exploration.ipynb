{
 "cells": [
  {
   "cell_type": "code",
   "execution_count": 1,
   "metadata": {},
   "outputs": [],
   "source": [
    "from sklearn.feature_extraction.text import TfidfTransformer, TfidfVectorizer, CountVectorizer\n",
    "from sklearn.metrics.pairwise import linear_kernel\n",
    "from sklearn.pipeline import Pipeline\n",
    "from stop_words import get_stop_words\n",
    "import numpy as np\n",
    "import os\n",
    "\n"
   ]
  },
  {
   "cell_type": "code",
   "execution_count": 2,
   "metadata": {},
   "outputs": [],
   "source": [
    "stopWords = get_stop_words('en')"
   ]
  },
  {
   "cell_type": "code",
   "execution_count": 3,
   "metadata": {},
   "outputs": [],
   "source": [
    "def printPathsWithSimilarities(paths, cosineSimilarities):\n",
    "    for i in range(len(paths)): \n",
    "        print(paths[i], cosineSimilarities[i])"
   ]
  },
  {
   "cell_type": "code",
   "execution_count": 25,
   "metadata": {},
   "outputs": [],
   "source": [
    "def getTop5FilesUsing_TfidfVectorizer(pathToFiles, query):\n",
    "    \n",
    "    listOfFiles = os.listdir(pathToFiles)\n",
    "    files = [query]\n",
    "    for i in range(len(listOfFiles)):\n",
    "        files.append(open( pathToFiles + \"/\" + listOfFiles[i], 'r').read().replace('\\n', ' '))\n",
    "    \n",
    "    tfXidf = TfidfVectorizer(stop_words = stopWords, lowercase=True, min_df=0.5, max_features=10).fit_transform(files)\n",
    "    \n",
    "    cosine_similarities = (linear_kernel(tfXidf[0:1], tfXidf[1:])).flatten()\n",
    "    related_docs_indices = (-cosine_similarities).argsort()\n",
    "    cosine_similarities =(cosine_similarities[(-cosine_similarities).argsort()])\n",
    "    \n",
    "    paths=[]\n",
    "    for indice in related_docs_indices:\n",
    "        paths.append(pathToFiles + \"/\" + listOfFiles[indice])\n",
    "    return (paths, cosine_similarities)"
   ]
  },
  {
   "cell_type": "code",
   "execution_count": 26,
   "metadata": {},
   "outputs": [
    {
     "name": "stdout",
     "output_type": "stream",
     "text": [
      "files/text44.txt 0.822480031379848\n",
      "files/text22.txt 0.6035870152131216\n",
      "files/text4.txt 0.5866642654744673\n",
      "files/text33.txt 0.5636651476674287\n",
      "files/text11.txt 0.5395933739251162\n"
     ]
    },
    {
     "name": "stderr",
     "output_type": "stream",
     "text": [
      "/home/study/.local/lib/python3.8/site-packages/sklearn/feature_extraction/text.py:383: UserWarning: Your stop_words may be inconsistent with your preprocessing. Tokenizing the stop words generated tokens ['aren', 'can', 'couldn', 'didn', 'doesn', 'don', 'hadn', 'hasn', 'haven', 'isn', 'let', 'll', 'mustn', 're', 'shan', 'shouldn', 've', 'wasn', 'weren', 'won', 'wouldn'] not in stop_words.\n",
      "  warnings.warn('Your stop_words may be inconsistent with '\n"
     ]
    }
   ],
   "source": [
    "paths, cosineSimilarities = (getTop5FilesUsing_TfidfVectorizer(\"files\", \"regression\"))\n",
    "printPathsWithSimilarities(paths[:5], cosineSimilarities[:5])"
   ]
  },
  {
   "cell_type": "code",
   "execution_count": 23,
   "metadata": {},
   "outputs": [],
   "source": [
    "def getTop5FilesUsing_TfidfTransformer(pathToFiles, query):\n",
    "    listOfFiles = os.listdir(pathToFiles)\n",
    "    files = []\n",
    "    for i in range(len(listOfFiles)):\n",
    "        files.append(open( pathToFiles + \"/\" + listOfFiles[i], 'r').read().replace('\\n', ' '))\n",
    "    query=[query]\n",
    "    \n",
    "    vectorizer = CountVectorizer(stop_words = stopWords, lowercase=True, min_df=0.5, max_features=10)\n",
    "    transformer = TfidfTransformer()\n",
    "    \n",
    "    filesVectors = vectorizer.fit_transform(files).toarray()\n",
    "    queryVector = vectorizer.transform(query).toarray()\n",
    "    \n",
    "    transformer.fit(filesVectors)\n",
    "    tfXidfFiles = (transformer.transform(filesVectors).toarray())\n",
    "\n",
    "    transformer.fit(queryVector)\n",
    "    tfXidfQuery = (transformer.transform(queryVector).todense())    \n",
    "\n",
    "    cosine_similarities = linear_kernel(tfXidfFiles, tfXidfQuery).flatten()\n",
    "    related_docs_indices = (-cosine_similarities).argsort()\n",
    "    cosine_similarities = (cosine_similarities[(-cosine_similarities).argsort()])\n",
    "    \n",
    "    paths=[]\n",
    "    for indice in related_docs_indices:\n",
    "        paths.append(pathToFiles + \"/\" + listOfFiles[indice])\n",
    "    return (paths, cosine_similarities)"
   ]
  },
  {
   "cell_type": "code",
   "execution_count": 24,
   "metadata": {},
   "outputs": [
    {
     "name": "stdout",
     "output_type": "stream",
     "text": [
      "files/text44.txt 0.8408504621964032\n",
      "files/text22.txt 0.6300746275457452\n",
      "files/text4.txt 0.6143291663316863\n",
      "files/text33.txt 0.5896064658468518\n",
      "files/text11.txt 0.5666647558836073\n"
     ]
    },
    {
     "name": "stderr",
     "output_type": "stream",
     "text": [
      "/home/study/.local/lib/python3.8/site-packages/sklearn/feature_extraction/text.py:383: UserWarning: Your stop_words may be inconsistent with your preprocessing. Tokenizing the stop words generated tokens ['aren', 'can', 'couldn', 'didn', 'doesn', 'don', 'hadn', 'hasn', 'haven', 'isn', 'let', 'll', 'mustn', 're', 'shan', 'shouldn', 've', 'wasn', 'weren', 'won', 'wouldn'] not in stop_words.\n",
      "  warnings.warn('Your stop_words may be inconsistent with '\n"
     ]
    }
   ],
   "source": [
    "paths, cosineSimilarities = (getTop5FilesUsing_TfidfTransformer(\"files\", \"regression\"))\n",
    "printPathsWithSimilarities(paths[:5], cosineSimilarities[:5])"
   ]
  },
  {
   "cell_type": "code",
   "execution_count": null,
   "metadata": {},
   "outputs": [],
   "source": []
  },
  {
   "cell_type": "code",
   "execution_count": null,
   "metadata": {},
   "outputs": [],
   "source": []
  },
  {
   "cell_type": "code",
   "execution_count": null,
   "metadata": {},
   "outputs": [],
   "source": []
  },
  {
   "cell_type": "code",
   "execution_count": null,
   "metadata": {},
   "outputs": [],
   "source": []
  },
  {
   "cell_type": "code",
   "execution_count": null,
   "metadata": {},
   "outputs": [],
   "source": []
  },
  {
   "cell_type": "code",
   "execution_count": null,
   "metadata": {},
   "outputs": [],
   "source": []
  },
  {
   "cell_type": "code",
   "execution_count": null,
   "metadata": {},
   "outputs": [],
   "source": []
  },
  {
   "cell_type": "code",
   "execution_count": null,
   "metadata": {},
   "outputs": [],
   "source": []
  },
  {
   "cell_type": "code",
   "execution_count": null,
   "metadata": {},
   "outputs": [],
   "source": []
  },
  {
   "cell_type": "code",
   "execution_count": null,
   "metadata": {},
   "outputs": [],
   "source": []
  },
  {
   "cell_type": "code",
   "execution_count": null,
   "metadata": {},
   "outputs": [],
   "source": []
  },
  {
   "cell_type": "code",
   "execution_count": null,
   "metadata": {},
   "outputs": [],
   "source": []
  },
  {
   "cell_type": "code",
   "execution_count": null,
   "metadata": {},
   "outputs": [],
   "source": []
  }
 ],
 "metadata": {
  "kernelspec": {
   "display_name": "Python 3",
   "language": "python",
   "name": "python3"
  },
  "language_info": {
   "codemirror_mode": {
    "name": "ipython",
    "version": 3
   },
   "file_extension": ".py",
   "mimetype": "text/x-python",
   "name": "python",
   "nbconvert_exporter": "python",
   "pygments_lexer": "ipython3",
   "version": "3.8.5"
  }
 },
 "nbformat": 4,
 "nbformat_minor": 4
}
